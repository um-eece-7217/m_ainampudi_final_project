{
 "cells": [
  {
   "cell_type": "markdown",
   "metadata": {},
   "source": [
    "## Importing Data "
   ]
  },
  {
   "cell_type": "code",
   "execution_count": 1,
   "metadata": {
    "colab": {
     "base_uri": "https://localhost:8080/"
    },
    "executionInfo": {
     "elapsed": 13,
     "status": "ok",
     "timestamp": 1682044131486,
     "user": {
      "displayName": "Ranjith Kumar",
      "userId": "11187689623435247253"
     },
     "user_tz": -330
    },
    "id": "D9JBpOcanohy",
    "outputId": "cb4b460b-52c9-450f-9ff6-e650776d69b5"
   },
   "outputs": [
    {
     "name": "stdout",
     "output_type": "stream",
     "text": [
      "age         0\n",
      "sex         0\n",
      "cp          0\n",
      "trestbps    0\n",
      "chol        0\n",
      "fbs         0\n",
      "restecg     0\n",
      "thalach     0\n",
      "exang       0\n",
      "oldpeak     0\n",
      "slope       0\n",
      "ca          0\n",
      "thal        0\n",
      "target      0\n",
      "dtype: int64\n"
     ]
    }
   ],
   "source": [
    "# Import necessary libraries\n",
    "import pandas as pd\n",
    "import numpy as np\n",
    "from sklearn.model_selection import train_test_split\n",
    "from sklearn.preprocessing import StandardScaler\n",
    "from sklearn.linear_model import LogisticRegression\n",
    "from sklearn.tree import DecisionTreeClassifier\n",
    "from sklearn.ensemble import RandomForestClassifier\n",
    "from sklearn.discriminant_analysis import LinearDiscriminantAnalysis\n",
    "from sklearn.decomposition import PCA\n",
    "from sklearn.metrics import confusion_matrix, classification_report, roc_auc_score, roc_curve\n",
    "\n",
    "# Load the dataset\n",
    "url = \"https://archive.ics.uci.edu/ml/machine-learning-databases/heart-disease/processed.cleveland.data\"\n",
    "names = ['age', 'sex', 'cp', 'trestbps', 'chol', 'fbs', 'restecg', 'thalach', 'exang', 'oldpeak', 'slope', 'ca', 'thal', 'target']\n",
    "data = pd.read_csv(url, names=names)\n",
    "\n",
    "# Check for missing values\n",
    "print(data.isnull().sum())\n",
    "data = data.drop(data[data[\"ca\"] == \"?\"].index)\n",
    "data = data.drop(data[data[\"thal\"] == \"?\"].index)\n",
    "data[\"ca\"] = data[\"ca\"].astype('float')\n",
    "data[\"thal\"] = data[\"thal\"].astype('float')"
   ]
  },
  {
   "cell_type": "markdown",
   "metadata": {},
   "source": [
    "## Data Analysis"
   ]
  },
  {
   "cell_type": "code",
   "execution_count": 2,
   "metadata": {
    "colab": {
     "base_uri": "https://localhost:8080/"
    },
    "executionInfo": {
     "elapsed": 13,
     "status": "ok",
     "timestamp": 1682044132930,
     "user": {
      "displayName": "Ranjith Kumar",
      "userId": "11187689623435247253"
     },
     "user_tz": -330
    },
    "id": "fyqg4bFnnr0H",
    "outputId": "1ae49af2-98bb-4069-9149-e375bbdc2229"
   },
   "outputs": [
    {
     "name": "stdout",
     "output_type": "stream",
     "text": [
      "<class 'pandas.core.frame.DataFrame'>\n",
      "Int64Index: 297 entries, 0 to 301\n",
      "Data columns (total 14 columns):\n",
      " #   Column    Non-Null Count  Dtype  \n",
      "---  ------    --------------  -----  \n",
      " 0   age       297 non-null    float64\n",
      " 1   sex       297 non-null    float64\n",
      " 2   cp        297 non-null    float64\n",
      " 3   trestbps  297 non-null    float64\n",
      " 4   chol      297 non-null    float64\n",
      " 5   fbs       297 non-null    float64\n",
      " 6   restecg   297 non-null    float64\n",
      " 7   thalach   297 non-null    float64\n",
      " 8   exang     297 non-null    float64\n",
      " 9   oldpeak   297 non-null    float64\n",
      " 10  slope     297 non-null    float64\n",
      " 11  ca        297 non-null    float64\n",
      " 12  thal      297 non-null    float64\n",
      " 13  target    297 non-null    int64  \n",
      "dtypes: float64(13), int64(1)\n",
      "memory usage: 34.8 KB\n"
     ]
    }
   ],
   "source": [
    "data.info()"
   ]
  },
  {
   "cell_type": "code",
   "execution_count": 3,
   "metadata": {
    "executionInfo": {
     "elapsed": 5,
     "status": "ok",
     "timestamp": 1682044136193,
     "user": {
      "displayName": "Ranjith Kumar",
      "userId": "11187689623435247253"
     },
     "user_tz": -330
    },
    "id": "geJlIh9wo4NI"
   },
   "outputs": [],
   "source": [
    "for i in data.columns:\n",
    "  data[i] = data[i].astype('int')"
   ]
  },
  {
   "cell_type": "code",
   "execution_count": 4,
   "metadata": {
    "colab": {
     "base_uri": "https://localhost:8080/"
    },
    "executionInfo": {
     "elapsed": 14,
     "status": "ok",
     "timestamp": 1682044150095,
     "user": {
      "displayName": "Ranjith Kumar",
      "userId": "11187689623435247253"
     },
     "user_tz": -330
    },
    "id": "WBz11ErCpLnR",
    "outputId": "8c5d4dc4-fb3f-4f2d-beed-51611b6ab3c2"
   },
   "outputs": [
    {
     "name": "stdout",
     "output_type": "stream",
     "text": [
      "<class 'pandas.core.frame.DataFrame'>\n",
      "Int64Index: 297 entries, 0 to 301\n",
      "Data columns (total 14 columns):\n",
      " #   Column    Non-Null Count  Dtype\n",
      "---  ------    --------------  -----\n",
      " 0   age       297 non-null    int32\n",
      " 1   sex       297 non-null    int32\n",
      " 2   cp        297 non-null    int32\n",
      " 3   trestbps  297 non-null    int32\n",
      " 4   chol      297 non-null    int32\n",
      " 5   fbs       297 non-null    int32\n",
      " 6   restecg   297 non-null    int32\n",
      " 7   thalach   297 non-null    int32\n",
      " 8   exang     297 non-null    int32\n",
      " 9   oldpeak   297 non-null    int32\n",
      " 10  slope     297 non-null    int32\n",
      " 11  ca        297 non-null    int32\n",
      " 12  thal      297 non-null    int32\n",
      " 13  target    297 non-null    int32\n",
      "dtypes: int32(14)\n",
      "memory usage: 18.6 KB\n"
     ]
    }
   ],
   "source": [
    "data.info()"
   ]
  },
  {
   "cell_type": "markdown",
   "metadata": {},
   "source": [
    "## Model Building & Evaluation"
   ]
  },
  {
   "cell_type": "code",
   "execution_count": 5,
   "metadata": {
    "colab": {
     "base_uri": "https://localhost:8080/"
    },
    "executionInfo": {
     "elapsed": 510,
     "status": "ok",
     "timestamp": 1682044155908,
     "user": {
      "displayName": "Ranjith Kumar",
      "userId": "11187689623435247253"
     },
     "user_tz": -330
    },
    "id": "6trBo05NWI92",
    "outputId": "2ca5af49-80e1-4865-b518-90821865f7c8"
   },
   "outputs": [
    {
     "name": "stdout",
     "output_type": "stream",
     "text": [
      "[0.22119704 0.12701208 0.10373281 0.08891417 0.07649114]\n",
      "Logistic Regression:\n",
      "ROC AUC: 0.7630062633514766\n",
      "Confusion Matrix: [[46  2  0  1  0]\n",
      " [ 9  2  1  4  1]\n",
      " [ 3  2  2  1  2]\n",
      " [ 1  4  3  0  3]\n",
      " [ 2  0  0  1  0]]\n",
      "Classification Report:               precision    recall  f1-score   support\n",
      "\n",
      "           0       0.75      0.94      0.84        49\n",
      "           1       0.20      0.12      0.15        17\n",
      "           2       0.33      0.20      0.25        10\n",
      "           3       0.00      0.00      0.00        11\n",
      "           4       0.00      0.00      0.00         3\n",
      "\n",
      "    accuracy                           0.56        90\n",
      "   macro avg       0.26      0.25      0.25        90\n",
      "weighted avg       0.49      0.56      0.51        90\n",
      "\n",
      "Decision Tree:\n",
      "ROC AUC: 0.5877735487144238\n",
      "Confusion Matrix: [[37  7  3  1  1]\n",
      " [ 8  2  4  3  0]\n",
      " [ 1  3  2  2  2]\n",
      " [ 1  5  2  2  1]\n",
      " [ 0  1  0  1  1]]\n",
      "Classification Report:               precision    recall  f1-score   support\n",
      "\n",
      "           0       0.79      0.76      0.77        49\n",
      "           1       0.11      0.12      0.11        17\n",
      "           2       0.18      0.20      0.19        10\n",
      "           3       0.22      0.18      0.20        11\n",
      "           4       0.20      0.33      0.25         3\n",
      "\n",
      "    accuracy                           0.49        90\n",
      "   macro avg       0.30      0.32      0.31        90\n",
      "weighted avg       0.50      0.49      0.50        90\n",
      "\n"
     ]
    }
   ],
   "source": [
    "# Split the data into features and target\n",
    "X = data.drop('target', axis=1)\n",
    "y = data['target']\n",
    "\n",
    "# Split the data into training and testing sets\n",
    "X_train, X_test, y_train, y_test = train_test_split(X, y, test_size=0.3, random_state=42)\n",
    "\n",
    "# Scale the data\n",
    "scaler = StandardScaler()\n",
    "X_train = scaler.fit_transform(X_train)\n",
    "X_test = scaler.transform(X_test)\n",
    "\n",
    "# Logistic Regression model\n",
    "lr_model = LogisticRegression()\n",
    "lr_model.fit(X_train, y_train)\n",
    "\n",
    "# Decision Tree model\n",
    "dt_model = DecisionTreeClassifier(random_state=42)\n",
    "dt_model.fit(X_train, y_train)\n",
    "\n",
    "# Random Forest model\n",
    "rf_model = RandomForestClassifier(random_state=42)\n",
    "rf_model.fit(X_train, y_train)\n",
    "\n",
    "# Linear Discriminant Analysis (LDA)\n",
    "lda = LinearDiscriminantAnalysis()\n",
    "X_lda = lda.fit_transform(X_train, y_train)\n",
    "\n",
    "# PCA\n",
    "pca = PCA(n_components=5)\n",
    "X_pca = pca.fit_transform(X_train)\n",
    "\n",
    "# Print explained variance ratio for PCA\n",
    "print(pca.explained_variance_ratio_)\n",
    "\n",
    "# Logistic Regression model with LDA\n",
    "lr_lda_model = LogisticRegression()\n",
    "lr_lda_model.fit(X_lda, y_train)\n",
    "\n",
    "# Logistic Regression model with PCA\n",
    "lr_pca_model = LogisticRegression()\n",
    "lr_pca_model.fit(X_pca, y_train)\n",
    "\n",
    "# Make predictions on test set\n",
    "y_pred_lr = lr_model.predict(X_test)\n",
    "y_pred_proba_lr = lr_model.predict_proba(X_test)\n",
    "\n",
    "y_pred_dt = dt_model.predict(X_test)\n",
    "y_pred_proba_dt = dt_model.predict_proba(X_test)\n",
    "\n",
    "y_pred_rf = rf_model.predict(X_test)\n",
    "y_pred_proba_rf = rf_model.predict_proba(X_test)\n",
    "\n",
    "y_pred_lr_lda = lr_lda_model.predict(lda.transform(X_test))\n",
    "y_pred_proba_lr_lda = lr_lda_model.predict_proba(lda.transform(X_test))\n",
    "\n",
    "y_pred_lr_pca = lr_pca_model.predict(pca.transform(X_test))\n",
    "y_pred_proba_lr_pca = lr_pca_model.predict_proba(pca.transform(X_test))\n",
    "\n",
    "# Print performance metrics for each model\n",
    "print('Logistic Regression:')\n",
    "print('ROC AUC:', roc_auc_score(y_test, y_pred_proba_lr,multi_class='ovr'))\n",
    "print('Confusion Matrix:', confusion_matrix(y_test, y_pred_lr))\n",
    "print('Classification Report:', classification_report(y_test, y_pred_lr))\n",
    "\n",
    "print('Decision Tree:')\n",
    "print('ROC AUC:', roc_auc_score(y_test, y_pred_proba_dt,multi_class='ovr'))\n",
    "print('Confusion Matrix:', confusion_matrix(y_test, y_pred_dt))\n",
    "print('Classification Report:', classification_report(y_test, y_pred_dt))"
   ]
  },
  {
   "cell_type": "code",
   "execution_count": 6,
   "metadata": {
    "colab": {
     "base_uri": "https://localhost:8080/"
    },
    "executionInfo": {
     "elapsed": 18,
     "status": "ok",
     "timestamp": 1682044165605,
     "user": {
      "displayName": "Ranjith Kumar",
      "userId": "11187689623435247253"
     },
     "user_tz": -330
    },
    "id": "gDEWdVgWWQYO",
    "outputId": "1f97d0a1-d7d0-4c77-df45-a50b8efcfa8f"
   },
   "outputs": [
    {
     "name": "stdout",
     "output_type": "stream",
     "text": [
      "Random Forest:\n",
      "ROC AUC: 0.7666667714075076\n",
      "Confusion Matrix: [[48  1  0  0  0]\n",
      " [10  1  4  2  0]\n",
      " [ 3  3  3  1  0]\n",
      " [ 3  4  2  1  1]\n",
      " [ 2  1  0  0  0]]\n",
      "Classification:               precision    recall  f1-score   support\n",
      "\n",
      "           0       0.79      0.76      0.77        49\n",
      "           1       0.11      0.12      0.11        17\n",
      "           2       0.18      0.20      0.19        10\n",
      "           3       0.22      0.18      0.20        11\n",
      "           4       0.20      0.33      0.25         3\n",
      "\n",
      "    accuracy                           0.49        90\n",
      "   macro avg       0.30      0.32      0.31        90\n",
      "weighted avg       0.50      0.49      0.50        90\n",
      "\n"
     ]
    }
   ],
   "source": [
    "print('Random Forest:')\n",
    "print('ROC AUC:', roc_auc_score(y_test, y_pred_proba_rf,multi_class='ovr'))\n",
    "print('Confusion Matrix:', confusion_matrix(y_test, y_pred_rf))\n",
    "print('Classification:', classification_report(y_test, y_pred_dt))\n"
   ]
  },
  {
   "cell_type": "code",
   "execution_count": 7,
   "metadata": {
    "colab": {
     "base_uri": "https://localhost:8080/"
    },
    "executionInfo": {
     "elapsed": 16,
     "status": "ok",
     "timestamp": 1682044165607,
     "user": {
      "displayName": "Ranjith Kumar",
      "userId": "11187689623435247253"
     },
     "user_tz": -330
    },
    "id": "90VHKp3SYeya",
    "outputId": "4246999f-bf01-4bdd-aa68-d8358514db95"
   },
   "outputs": [
    {
     "name": "stdout",
     "output_type": "stream",
     "text": [
      "Logistic Regression with LDA:\n",
      "ROC AUC: 0.7978428686480225\n",
      "Confusion Matrix: [[47  1  0  0  1]\n",
      " [ 8  3  2  3  1]\n",
      " [ 3  2  2  1  2]\n",
      " [ 1  4  3  1  2]\n",
      " [ 2  0  0  1  0]]\n",
      "Classification Report:               precision    recall  f1-score   support\n",
      "\n",
      "           0       0.77      0.96      0.85        49\n",
      "           1       0.30      0.18      0.22        17\n",
      "           2       0.29      0.20      0.24        10\n",
      "           3       0.17      0.09      0.12        11\n",
      "           4       0.00      0.00      0.00         3\n",
      "\n",
      "    accuracy                           0.59        90\n",
      "   macro avg       0.30      0.29      0.29        90\n",
      "weighted avg       0.53      0.59      0.55        90\n",
      "\n",
      "Logistic Regression with PCA:\n",
      "ROC AUC: 0.810623670883904\n",
      "Confusion Matrix: [[48  0  0  0  1]\n",
      " [ 9  3  2  3  0]\n",
      " [ 4  1  1  2  2]\n",
      " [ 1  2  4  1  3]\n",
      " [ 1  1  0  1  0]]\n",
      "Classification Report:               precision    recall  f1-score   support\n",
      "\n",
      "           0       0.76      0.98      0.86        49\n",
      "           1       0.43      0.18      0.25        17\n",
      "           2       0.14      0.10      0.12        10\n",
      "           3       0.14      0.09      0.11        11\n",
      "           4       0.00      0.00      0.00         3\n",
      "\n",
      "    accuracy                           0.59        90\n",
      "   macro avg       0.30      0.27      0.27        90\n",
      "weighted avg       0.53      0.59      0.54        90\n",
      "\n"
     ]
    }
   ],
   "source": [
    "print('Logistic Regression with LDA:')\n",
    "print('ROC AUC:', roc_auc_score(y_test, y_pred_proba_lr_lda,multi_class='ovr'))\n",
    "print('Confusion Matrix:', confusion_matrix(y_test, y_pred_lr_lda))\n",
    "print('Classification Report:', classification_report(y_test, y_pred_lr_lda))\n",
    "\n",
    "print('Logistic Regression with PCA:')\n",
    "print('ROC AUC:', roc_auc_score(y_test, y_pred_proba_lr_pca,multi_class='ovr'))\n",
    "print('Confusion Matrix:', confusion_matrix(y_test, y_pred_lr_pca))\n",
    "print('Classification Report:', classification_report(y_test, y_pred_lr_pca))\n"
   ]
  },
  {
   "cell_type": "markdown",
   "metadata": {},
   "source": [
    "## Region of Convergence"
   ]
  },
  {
   "cell_type": "code",
   "execution_count": 9,
   "metadata": {
    "colab": {
     "base_uri": "https://localhost:8080/",
     "height": 472
    },
    "executionInfo": {
     "elapsed": 758,
     "status": "ok",
     "timestamp": 1682044411784,
     "user": {
      "displayName": "Ranjith Kumar",
      "userId": "11187689623435247253"
     },
     "user_tz": -330
    },
    "id": "fcJpjvRIYpQ7",
    "outputId": "ec7088fb-1f3d-4dcf-9281-463e7860db5a"
   },
   "outputs": [
    {
     "data": {
      "image/png": "[encoded data removed]",
      "text/plain": [
       "<Figure size 432x288 with 1 Axes>"
      ]
     },
     "metadata": {
      "needs_background": "light"
     },
     "output_type": "display_data"
    }
   ],
   "source": [
    "#Plot ROC curve for each model\n",
    "fpr_lr, tpr_lr, thresholds_lr = roc_curve(y_test, lr_model.predict(X_test),pos_label=1)\n",
    "fpr_dt, tpr_dt, thresholds_dt = roc_curve(y_test, dt_model.predict(X_test),pos_label=1)\n",
    "fpr_rf, tpr_rf, thresholds_rf = roc_curve(y_test, rf_model.predict(X_test),pos_label=1)\n",
    "fpr_lr_lda, tpr_lr_lda, thresholds_lr_lda = roc_curve(y_test, lr_lda_model.predict(lda.transform(X_test)),pos_label=1)\n",
    "fpr_lr_pca, tpr_lr_pca, thresholds_lr_pca = roc_curve(y_test, lr_pca_model.predict(pca.transform(X_test)),pos_label=1)\n",
    "\n",
    "import matplotlib.pyplot as plt\n",
    "plt.plot(fpr_lr, tpr_lr, label='Logistic Regression')\n",
    "plt.plot(fpr_dt, tpr_dt, label='Decision Tree')\n",
    "plt.plot(fpr_rf, tpr_rf, label='Random Forest')\n",
    "plt.plot(fpr_lr_lda, tpr_lr_lda, label='Logistic Regression with LDA')\n",
    "plt.plot(fpr_lr_pca, tpr_lr_pca, label='Logistic Regression with PCA')\n",
    "plt.plot([0, 1], [0, 1], 'k--')\n",
    "plt.xlabel('False Positive Rate')\n",
    "plt.ylabel('True Positive Rate')\n",
    "plt.title('ROC Curve')\n",
    "plt.legend()\n",
    "plt.show()"
   ]
  },
  {
   "cell_type": "code",
   "execution_count": null,
   "metadata": {},
   "outputs": [],
   "source": []
  }
 ],
 "metadata": {
  "colab": {
   "authorship_tag": "ABX9TyODO/icGIOdxQkUhA557Llf",
   "provenance": []
  },
  "kernelspec": {
   "display_name": "Python 3",
   "language": "python",
   "name": "python3"
  },
  "language_info": {
   "codemirror_mode": {
    "name": "ipython",
    "version": 3
   },
   "file_extension": ".py",
   "mimetype": "text/x-python",
   "name": "python",
   "nbconvert_exporter": "python",
   "pygments_lexer": "ipython3",
   "version": "3.7.10"
  }
 },
 "nbformat": 4,
 "nbformat_minor": 1
}
